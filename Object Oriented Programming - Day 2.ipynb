{
  "nbformat": 4,
  "nbformat_minor": 0,
  "metadata": {
    "colab": {
      "provenance": [],
      "authorship_tag": "ABX9TyPKrq0iLutElDgckNjw/H8I",
      "include_colab_link": true
    },
    "kernelspec": {
      "name": "python3",
      "display_name": "Python 3"
    },
    "language_info": {
      "name": "python"
    }
  },
  "cells": [
    {
      "cell_type": "markdown",
      "metadata": {
        "id": "view-in-github",
        "colab_type": "text"
      },
      "source": [
        "<a href=\"https://colab.research.google.com/github/AnmolAdhikari/Python-Training/blob/main/Object%20Oriented%20Programming%20-%20Day%202.ipynb\" target=\"_parent\"><img src=\"https://colab.research.google.com/assets/colab-badge.svg\" alt=\"Open In Colab\"/></a>"
      ]
    },
    {
      "cell_type": "markdown",
      "source": [
        "# **Inheritance**"
      ],
      "metadata": {
        "id": "wjefas2TijeK"
      }
    },
    {
      "cell_type": "code",
      "source": [
        "# when a new class(subclass) can inherit attributes and methods from an existing class (superclass)."
      ],
      "metadata": {
        "id": "Pt7h0GYbnjll"
      },
      "execution_count": null,
      "outputs": []
    },
    {
      "cell_type": "code",
      "source": [
        "class Animal:\n",
        "  def __init__(self, name, species):\n",
        "    self.name = name\n",
        "    self.species = species\n",
        "\n",
        "  def speak(self):\n",
        "    pass\n",
        "\n",
        "class Dog(Animal):\n",
        "  def __init__(self, name, breed):\n",
        "    super().__init__(name, species=\"Dog\")\n",
        "    self.breed = breed\n",
        "\n",
        "  def speak(self):\n",
        "    return \"Woof!\"\n",
        "\n",
        "class Cat(Animal):\n",
        "  def __init__(self, name, color):\n",
        "    super().__init__(name, species=\"Cat\")\n",
        "    self.color = color\n",
        "\n",
        "  def speak(self):\n",
        "    return \"Meow!\""
      ],
      "metadata": {
        "id": "TTum3PlkqfpI"
      },
      "execution_count": null,
      "outputs": []
    },
    {
      "cell_type": "code",
      "source": [
        "# Creating the instances of Dog and Cat\n",
        "\n",
        "dog = Dog(\"Buddy\", \"Golden\")\n",
        "cat = Cat(\"Whiskers\", \"Gray\")\n",
        "\n",
        "print(f\"{dog.name} is a {dog.species} and says {dog.speak()}\")\n",
        "print(f\"{cat.name} is a {cat.species} and says {cat.speak()}\")"
      ],
      "metadata": {
        "colab": {
          "base_uri": "https://localhost:8080/"
        },
        "id": "EcM0G0E0sUwj",
        "outputId": "7e9232e0-5fd8-4851-83fb-160d75449151"
      },
      "execution_count": null,
      "outputs": [
        {
          "output_type": "stream",
          "name": "stdout",
          "text": [
            "Buddy is a Dog and says Woof!\n",
            "Whiskers is a Cat and says Meow!\n"
          ]
        }
      ]
    },
    {
      "cell_type": "markdown",
      "source": [
        "# **1. Beverage System Using Inheritance Concepts**"
      ],
      "metadata": {
        "id": "lE2m5o8NtIzU"
      }
    },
    {
      "cell_type": "code",
      "source": [
        "class Beverage:\n",
        "  def __init__(self, name, size, price):\n",
        "    self.name = name\n",
        "    self.size = size\n",
        "    self.price = price\n",
        "\n",
        "  def display_order(self):\n",
        "    print(f\"Name: {self.name}\")\n",
        "    print(f\"Size: {self.size}\")\n",
        "    print(f\"Price: Rs{self.price: .2f}\")\n",
        "\n",
        "class Coffee(Beverage):\n",
        "  def __init__(self, name, size, price, roast_level):\n",
        "    super().__init__(name, size, price)\n",
        "    self.roast_level = roast_level\n",
        "\n",
        "  def display_order(self):\n",
        "    super().display_order()\n",
        "    print(f\"Roast Level: {self.roast_level}\")\n",
        "\n",
        "class Tea(Beverage):\n",
        "  def __init__(self, name, size, price, type):\n",
        "    super().__init__(name, size, price)\n",
        "    self.type = type\n",
        "\n",
        "  def display_order(self):\n",
        "    super().display_order()\n",
        "    print(f\"Type: {self.type}\")\n"
      ],
      "metadata": {
        "id": "HR_kwrebs0Sn"
      },
      "execution_count": null,
      "outputs": []
    },
    {
      "cell_type": "code",
      "source": [
        "coffee_order = Coffee(\"Latte\", \"Medium\", 150, \"Medium Roast\")\n",
        "tea_order = Tea(\"Green Tea\", \"Large\", 50, \"Green\")\n",
        "\n",
        "print(\"Coffee Order:\")\n",
        "coffee_order.display_order()\n",
        "print(\"\\nTea Order:\")\n",
        "tea_order.display_order()"
      ],
      "metadata": {
        "colab": {
          "base_uri": "https://localhost:8080/"
        },
        "id": "Ul_YBQOMuwbV",
        "outputId": "066b2b31-bc3c-47ee-d670-d98afffd9553"
      },
      "execution_count": null,
      "outputs": [
        {
          "output_type": "stream",
          "name": "stdout",
          "text": [
            "Coffee Order:\n",
            "Name: Latte\n",
            "Size: Medium\n",
            "Price: Rs 150.00\n",
            "Roast Level: Medium Roast\n",
            "\n",
            "Tea Order:\n",
            "Name: Green Tea\n",
            "Size: Large\n",
            "Price: Rs 50.00\n",
            "Type: Green\n"
          ]
        }
      ]
    },
    {
      "cell_type": "markdown",
      "source": [
        "**Composition**"
      ],
      "metadata": {
        "id": "ixySynxavl3T"
      }
    },
    {
      "cell_type": "code",
      "source": [
        "# Composition represents as \"has-a\" relationship rather than an \"is-a\""
      ],
      "metadata": {
        "id": "BLAVBeN0vLMQ"
      },
      "execution_count": null,
      "outputs": []
    },
    {
      "cell_type": "markdown",
      "source": [
        "1. Engine"
      ],
      "metadata": {
        "id": "N1KvBpcMwa2E"
      }
    },
    {
      "cell_type": "code",
      "source": [
        "class Engine:\n",
        "  def __init__(self, horsepower):\n",
        "    self.horsepower = horsepower\n",
        "\n",
        "  def start(self):\n",
        "    print(\"Engine started.\")\n",
        "\n",
        "  def stop(self):\n",
        "    print(\"Engine stopped.\")\n",
        "\n",
        "# class engine represents a car engine with attributes such as horsepower.\n",
        "# It has methods to start and stop the engine\n",
        "\n",
        "class Car:\n",
        "  def __init__(self, make, model, year, horsepower):\n",
        "    self.make = make\n",
        "    self.model = model\n",
        "    self.year = year\n",
        "    self.engine = Engine(horsepower) # Composition: Car \"has-a\" Engine\n",
        "\n",
        "# The car class contains an instance of the engine class a member varibale(engine).\n",
        "# This will simply represents a \"has-a\" relationship where a class has \"has-a\" engine.\n",
        "\n",
        "  def start(self):\n",
        "    print(f\"{self.make} {self.model} {self.year} is starting.\")\n",
        "    self.engine.start()\n",
        "\n",
        "  def stop(self):\n",
        "    print(f\"{self.make} {self.model} {self.year} is stopping.\")\n",
        "    self.engine.stop()"
      ],
      "metadata": {
        "id": "XeBWsbPLwWZw"
      },
      "execution_count": null,
      "outputs": []
    },
    {
      "cell_type": "code",
      "source": [
        "my_car = Car(\"BYD\", \"China\", 2024, 200)\n",
        "\n",
        "my_car.start()\n",
        "my_car.stop()"
      ],
      "metadata": {
        "colab": {
          "base_uri": "https://localhost:8080/"
        },
        "id": "ny_56iSZybal",
        "outputId": "94319e14-99ad-414d-a336-0d7642c76c5a"
      },
      "execution_count": null,
      "outputs": [
        {
          "output_type": "stream",
          "name": "stdout",
          "text": [
            "BYD China 2024 is starting.\n",
            "Engine started.\n",
            "BYD China 2024 is stopping.\n",
            "Engine stopped.\n"
          ]
        }
      ]
    },
    {
      "cell_type": "markdown",
      "source": [
        "# Encapsulation"
      ],
      "metadata": {
        "id": "HzGxqb3JzAK9"
      }
    },
    {
      "cell_type": "code",
      "source": [
        "# Encapsulation involves bundling the data(attributes) and methods (functions) that\n",
        "# operate on the data into a single unti that is called a class."
      ],
      "metadata": {
        "id": "MlMpv23xymNf"
      },
      "execution_count": null,
      "outputs": []
    },
    {
      "cell_type": "markdown",
      "source": [
        "1. Bank Account Implementation using Encapsulation"
      ],
      "metadata": {
        "id": "apgrPhQKzpqz"
      }
    },
    {
      "cell_type": "code",
      "source": [
        "class BankAccount:\n",
        "  def __init__(self, account_number, owner_name, initial_balance):\n",
        "    self._account_number = account_number # Encapsulated attribute\n",
        "    self._owner_name = owner_name # Encapsulated attribute\n",
        "    self._balance = initial_balance\n",
        "\n",
        "  def deposit(self, amount):\n",
        "    \"\"\"Deposit money into the account.\"\"\"\n",
        "    if amount > 0:\n",
        "      self._balance += amount\n",
        "      print(f\"Deposit of Rs. {amount} sucessful. New Balance: Rs. {self._balance}\")\n",
        "    else:\n",
        "      print(\"Invalid deposit amount. Please enter a positive number.\")\n",
        "\n",
        "  def withdraw(self, amount):\n",
        "    \"\"\"Withdraw money from the account.\"\"\"\n",
        "    if 0 < amount <= self._balance:\n",
        "      self._balance -= amount\n",
        "      print(f\"Withdrawal of Rs. {amount} successful. New Balance: Rs. {self._balance}\")\n",
        "    else:\n",
        "      print(\"Invalid withdrawal amount or insufficient funds.\")\n",
        "\n",
        "  def check_balance(self):\n",
        "    \"\"\"Check the current balance.\"\"\"\n",
        "    print(f\"Current Balance: Rs. {self._balance}\")\n",
        "\n",
        "# the bankaccount class encapsulates attributes such as _account_number.\n",
        "# method like deposit provide the controlled access to these attributes\n",
        "# Direct access to encapslated attributes is restricted but the methods can be\n",
        " # manipulate these kind of attributes as needes.\n",
        "\n",
        "# Encapsulation simply ensures that the internal state of the bnak account object\n",
        "# is simply protect from the direct modification, and the interactions with the account\n",
        "# are performed through well_defined mathods.\n"
      ],
      "metadata": {
        "id": "mi_tC3ROzyZo"
      },
      "execution_count": null,
      "outputs": []
    },
    {
      "cell_type": "code",
      "source": [
        "account1 = BankAccount(\"1233456\", \"Anmol Adhikari\", 1000)\n",
        "\n",
        "# testing the deposit, withdraw and checking the methods\n",
        "\n",
        "account1.deposit(500)\n",
        "account1.withdraw(200)\n",
        "account1.check_balance()"
      ],
      "metadata": {
        "colab": {
          "base_uri": "https://localhost:8080/"
        },
        "id": "C7Oqikq42Pyk",
        "outputId": "c3482667-e9f7-4ccf-e5bf-89d83bc1c05f"
      },
      "execution_count": null,
      "outputs": [
        {
          "output_type": "stream",
          "name": "stdout",
          "text": [
            "Deposit of Rs. 500 sucessful. New Balance: Rs. 1500\n",
            "Withdrawal of Rs. 200 successful. New Balance: Rs. 1300\n",
            "Current Balance: Rs. 1300\n"
          ]
        }
      ]
    },
    {
      "cell_type": "code",
      "source": [],
      "metadata": {
        "id": "Wjwj6r5W2o2m"
      },
      "execution_count": null,
      "outputs": []
    }
  ]
}